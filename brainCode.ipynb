{
  "nbformat": 4,
  "nbformat_minor": 0,
  "metadata": {
    "colab": {
      "name": "tumorcerebro.ipynb",
      "provenance": [],
      "collapsed_sections": [
        "f4jck_xpt38D",
        "roD1d68swdRi"
      ],
      "toc_visible": true
    },
    "kernelspec": {
      "name": "python3",
      "display_name": "Python 3"
    },
    "language_info": {
      "name": "python"
    }
  },
  "cells": [
    {
      "cell_type": "markdown",
      "metadata": {
        "id": "f4jck_xpt38D"
      },
      "source": [
        "# 01) Required Imports\n",
        "\n"
      ]
    },
    {
      "cell_type": "code",
      "metadata": {
        "id": "bJ68QSQx66N6"
      },
      "source": [
        "import os\n",
        "import keras \n",
        "from keras.models import Sequential\n",
        "from keras.layers import Conv2D, MaxPooling2D, Flatten, Dense, Dropout, BatchNormalization\n",
        "from PIL import Image\n",
        "import numpy as np\n",
        "import pandas as pd\n",
        "import matplotlib.pyplot as plt\n",
        "plt.style.use('dark_background')\n",
        "from sklearn.model_selection import train_test_split\n",
        "from sklearn.preprocessing import OneHotEncoder "
      ],
      "execution_count": null,
      "outputs": []
    },
    {
      "cell_type": "markdown",
      "metadata": {
        "id": "Iz8e5p-PvWbh"
      },
      "source": [
        "# 02) Data Preparation"
      ]
    },
    {
      "cell_type": "markdown",
      "metadata": {
        "id": "roD1d68swdRi"
      },
      "source": [
        "## Creating encoder\n",
        "one-hot-encoding works by turning 'variables' into binary representation.\n",
        "\n",
        "In our case, as the classification is binary - tumor or without tumor - then we can apply this perfectly:"
      ]
    },
    {
      "cell_type": "code",
      "metadata": {
        "colab": {
          "base_uri": "https://localhost:8080/"
        },
        "id": "KwqPc28U8D0t",
        "outputId": "a40f029a-8fb7-48fa-8522-b1d4fab4e685"
      },
      "source": [
        "encoder = OneHotEncoder()\n",
        "encoder.fit([[0], [1]]) \n",
        "\n",
        "# 0 - Tumor\n",
        "# 1 - Normal"
      ],
      "execution_count": null,
      "outputs": [
        {
          "output_type": "execute_result",
          "data": {
            "text/plain": [
              "OneHotEncoder(categories='auto', drop=None, dtype=<class 'numpy.float64'>,\n",
              "              handle_unknown='error', sparse=True)"
            ]
          },
          "metadata": {},
          "execution_count": 10
        }
      ]
    },
    {
      "cell_type": "markdown",
      "metadata": {
        "id": "Ndn00ZxgxVpm"
      },
      "source": [
        "## Resizing and creating a list for the images \n",
        "\n",
        "It is not possible to directly use images of different sizes in our model. When you define an architecture, you plan how many layers you should have depending on the size of the input. Without having a fixed input you cannot define the architecture of your model. Therefore, it is necessary to convert all your images to the same size."
      ]
    },
    {
      "cell_type": "code",
      "metadata": {
        "id": "SdzDl1xp8ICE"
      },
      "source": [
        "data = []\n",
        "paths = []\n",
        "result = []\n",
        "\n",
        "# The next lines basically do the following:\n",
        "\n",
        "# Scroll through the folder created with all the images containing tumor. Thus, adding to the list 'paths' that will store the path of each image;\n",
        "\n",
        "for r, d, f in os.walk(r'/content/Yes'): # In this line, use the path of the folder containing the brain tumour dataset;\n",
        "    for file in f:\n",
        "        if '.jpg' in file:\n",
        "            paths.append(os.path.join(r, file))\n",
        "\n",
        "\n",
        "# The next lines basically do the following:\n",
        "\n",
        "# Go through the 'paths' list and change the size of each image, convert it to array and add to the 'result' list\n",
        "# An important detail is that in the 'result' list you will already apply the 'OneHotEncoder'\n",
        "# in this case at '0' indicating that they are exam images containing brain tumors.\n",
        "\n",
        "for path in paths:\n",
        "    img = Image.open(path)\n",
        "    img = img.resize((128,128))\n",
        "    img = np.array(img)\n",
        "    if(img.shape == (128,128,3)):\n",
        "        data.append(np.array(img))\n",
        "        result.append(encoder.transform([[0]]).toarray())"
      ],
      "execution_count": null,
      "outputs": []
    },
    {
      "cell_type": "code",
      "metadata": {
        "id": "wIPYA0Nc_f_J"
      },
      "source": [
        "# The next lines basically do the following:\n",
        "\n",
        "# Scroll through the folder created with all the images that do not contain tumor. Thus, adding to the list 'paths' that will store the path of each image;\n",
        "paths = []\n",
        "for r, d, f in os.walk(r\"/content/No\"): # In this line, use the path of the folder containing the brain 'non-tumor' dataset;\n",
        "    for file in f:\n",
        "        if '.jpg' in file:\n",
        "            paths.append(os.path.join(r, file))\n",
        "\n",
        "# The next lines basically do the following:\n",
        "\n",
        "# Go through the 'paths' list and change the size of each image, convert it to array and add to the 'result' list\n",
        "# An important detail is that in the 'result' list you will already apply the 'OneHotEncoder'\n",
        "# in this case at '1' indicating that they are exam images not containing brain tumors.\n",
        "\n",
        "for path in paths:\n",
        "    img = Image.open(path)\n",
        "    img = img.resize((128,128))\n",
        "    img = np.array(img)\n",
        "    if(img.shape == (128,128,3)):\n",
        "        data.append(np.array(img))\n",
        "        result.append(encoder.transform([[1]]).toarray())"
      ],
      "execution_count": null,
      "outputs": []
    },
    {
      "cell_type": "markdown",
      "metadata": {
        "id": "no1c-peX6ha1"
      },
      "source": [
        "## Spliting the train and test data"
      ]
    },
    {
      "cell_type": "markdown",
      "metadata": {
        "id": "6p5KLO236nD1"
      },
      "source": [
        "We first start by checking the shape of our data:\n",
        "\n",
        "The last 3 atributes are always the same (x,128,128,3) representing the size of the image and the 3 layers of color.\n",
        "\n",
        "After that, we reshape the 'result' list. Making it easier to split it in train and test data.  "
      ]
    },
    {
      "cell_type": "code",
      "metadata": {
        "colab": {
          "base_uri": "https://localhost:8080/"
        },
        "id": "YQP3CKws_gSB",
        "outputId": "ebde33da-d061-4dd6-8109-2d0cf389ef51"
      },
      "source": [
        "data = np.array(data)\n",
        "data.shape"
      ],
      "execution_count": null,
      "outputs": [
        {
          "output_type": "execute_result",
          "data": {
            "text/plain": [
              "(139, 128, 128, 3)"
            ]
          },
          "metadata": {},
          "execution_count": 15
        }
      ]
    },
    {
      "cell_type": "code",
      "metadata": {
        "id": "poQDUlws_mMh"
      },
      "source": [
        "result = np.array(result)\n",
        "result = result.reshape(len(result),2)"
      ],
      "execution_count": null,
      "outputs": []
    },
    {
      "cell_type": "markdown",
      "metadata": {
        "id": "g7_9jlQr7nBV"
      },
      "source": [
        "We are going to use the function 'train_test_split' to split the data. Also, we are going to use a 'test_size=0.2', meaning that 20% of our data is meant for testing, leaving 80% for training."
      ]
    },
    {
      "cell_type": "code",
      "metadata": {
        "id": "_5gMSo41_qAx"
      },
      "source": [
        "x_train,x_test,y_train,y_test = train_test_split(data, result, test_size=0.2, shuffle=True, random_state=0)"
      ],
      "execution_count": null,
      "outputs": []
    },
    {
      "cell_type": "markdown",
      "metadata": {
        "id": "1L8JWmR28R68"
      },
      "source": [
        "# 03) Model architecture\n",
        "\n",
        "Convolutional Neural Networks (CNNs) is the most popular neural network model being used for image classification problem. The big idea behind CNNs is that a local understanding of an image is good enough. The practical benefit is that having fewer parameters greatly improves the time it takes to learn as well as reduces the amount of data required to train the model. Instead of a fully connected network of weights from each pixel, a CNN has just enough weights to look at a small patch of the image.\n",
        "\n",
        "You can try a lot of different model architectures to achieve different results."
      ]
    },
    {
      "cell_type": "code",
      "metadata": {
        "colab": {
          "base_uri": "https://localhost:8080/"
        },
        "id": "K6F8rPOG_qVp",
        "outputId": "79d320f1-001d-4264-c621-df03dfc44913"
      },
      "source": [
        "model = Sequential()\n",
        "\n",
        "model.add(Conv2D(32, kernel_size=(2, 2), input_shape=(128, 128, 3), padding = 'Same'))\n",
        "model.add(Conv2D(32, kernel_size=(2, 2),  activation ='relu', padding = 'Same'))\n",
        "\n",
        "\n",
        "model.add(BatchNormalization())\n",
        "model.add(MaxPooling2D(pool_size=(2, 2)))\n",
        "model.add(Dropout(0.25))\n",
        "\n",
        "model.add(Conv2D(64, kernel_size = (2,2), activation ='relu', padding = 'Same'))\n",
        "model.add(Conv2D(64, kernel_size = (2,2), activation ='relu', padding = 'Same'))\n",
        "\n",
        "model.add(BatchNormalization())\n",
        "model.add(MaxPooling2D(pool_size=(2,2), strides=(2,2)))\n",
        "model.add(Dropout(0.25))\n",
        "\n",
        "model.add(Flatten())\n",
        "\n",
        "model.add(Dense(512, activation='relu'))\n",
        "model.add(Dropout(0.5))\n",
        "model.add(Dense(2, activation='softmax'))\n",
        "\n",
        "model.compile(loss = \"categorical_crossentropy\", optimizer='Adamax')\n",
        "print(model.summary())"
      ],
      "execution_count": null,
      "outputs": [
        {
          "output_type": "stream",
          "name": "stdout",
          "text": [
            "Model: \"sequential\"\n",
            "_________________________________________________________________\n",
            "Layer (type)                 Output Shape              Param #   \n",
            "=================================================================\n",
            "conv2d (Conv2D)              (None, 128, 128, 32)      416       \n",
            "_________________________________________________________________\n",
            "conv2d_1 (Conv2D)            (None, 128, 128, 32)      4128      \n",
            "_________________________________________________________________\n",
            "batch_normalization (BatchNo (None, 128, 128, 32)      128       \n",
            "_________________________________________________________________\n",
            "max_pooling2d (MaxPooling2D) (None, 64, 64, 32)        0         \n",
            "_________________________________________________________________\n",
            "dropout (Dropout)            (None, 64, 64, 32)        0         \n",
            "_________________________________________________________________\n",
            "conv2d_2 (Conv2D)            (None, 64, 64, 64)        8256      \n",
            "_________________________________________________________________\n",
            "conv2d_3 (Conv2D)            (None, 64, 64, 64)        16448     \n",
            "_________________________________________________________________\n",
            "batch_normalization_1 (Batch (None, 64, 64, 64)        256       \n",
            "_________________________________________________________________\n",
            "max_pooling2d_1 (MaxPooling2 (None, 32, 32, 64)        0         \n",
            "_________________________________________________________________\n",
            "dropout_1 (Dropout)          (None, 32, 32, 64)        0         \n",
            "_________________________________________________________________\n",
            "flatten (Flatten)            (None, 65536)             0         \n",
            "_________________________________________________________________\n",
            "dense (Dense)                (None, 512)               33554944  \n",
            "_________________________________________________________________\n",
            "dropout_2 (Dropout)          (None, 512)               0         \n",
            "_________________________________________________________________\n",
            "dense_1 (Dense)              (None, 2)                 1026      \n",
            "=================================================================\n",
            "Total params: 33,585,602\n",
            "Trainable params: 33,585,410\n",
            "Non-trainable params: 192\n",
            "_________________________________________________________________\n",
            "None\n"
          ]
        }
      ]
    },
    {
      "cell_type": "markdown",
      "metadata": {
        "id": "xb-gHkdT9Y6S"
      },
      "source": [
        "# 04) Model Training\n",
        "\n",
        "Model training is the phase in the data science development lifecycle where practitioners try to fit the best combination of weights and bias to a machine learning algorithm to minimize a loss function over the prediction range. The purpose of model training is to build the best mathematical representation of the relationship between data features and a target label (in supervised learning).\n",
        "\n",
        "You can try different epochs values, different batch sizes and so on."
      ]
    },
    {
      "cell_type": "code",
      "metadata": {
        "colab": {
          "base_uri": "https://localhost:8080/"
        },
        "id": "bCfQPk9HAH9Y",
        "outputId": "cd1bfab8-3715-433f-8f0b-9f223f6114ff"
      },
      "source": [
        "history = model.fit(x_train, y_train, epochs = 30, batch_size = 40, verbose = 1,validation_data = (x_test, y_test))"
      ],
      "execution_count": null,
      "outputs": [
        {
          "output_type": "stream",
          "name": "stdout",
          "text": [
            "Epoch 1/30\n",
            "3/3 [==============================] - 9s 3s/step - loss: 22.3232 - val_loss: 74.6035\n",
            "Epoch 2/30\n",
            "3/3 [==============================] - 7s 2s/step - loss: 21.6577 - val_loss: 25.4659\n",
            "Epoch 3/30\n",
            "3/3 [==============================] - 7s 2s/step - loss: 5.4485 - val_loss: 13.5054\n",
            "Epoch 4/30\n",
            "3/3 [==============================] - 7s 2s/step - loss: 3.5843 - val_loss: 11.1915\n",
            "Epoch 5/30\n",
            "3/3 [==============================] - 7s 2s/step - loss: 1.4534 - val_loss: 21.7196\n",
            "Epoch 6/30\n",
            "3/3 [==============================] - 7s 2s/step - loss: 2.6475 - val_loss: 19.0979\n",
            "Epoch 7/30\n",
            "3/3 [==============================] - 7s 2s/step - loss: 0.8791 - val_loss: 11.7746\n",
            "Epoch 8/30\n",
            "3/3 [==============================] - 7s 2s/step - loss: 0.8243 - val_loss: 7.3012\n",
            "Epoch 9/30\n",
            "3/3 [==============================] - 7s 2s/step - loss: 0.4347 - val_loss: 6.7701\n",
            "Epoch 10/30\n",
            "3/3 [==============================] - 7s 2s/step - loss: 0.9454 - val_loss: 7.8388\n",
            "Epoch 11/30\n",
            "3/3 [==============================] - 7s 2s/step - loss: 0.1404 - val_loss: 8.3791\n",
            "Epoch 12/30\n",
            "3/3 [==============================] - 7s 2s/step - loss: 0.0389 - val_loss: 8.6585\n",
            "Epoch 13/30\n",
            "3/3 [==============================] - 7s 2s/step - loss: 0.0232 - val_loss: 8.4205\n",
            "Epoch 14/30\n",
            "3/3 [==============================] - 7s 2s/step - loss: 0.0460 - val_loss: 8.1025\n",
            "Epoch 15/30\n",
            "3/3 [==============================] - 7s 2s/step - loss: 0.0200 - val_loss: 7.7269\n",
            "Epoch 16/30\n",
            "3/3 [==============================] - 8s 2s/step - loss: 0.1341 - val_loss: 7.3581\n",
            "Epoch 17/30\n",
            "3/3 [==============================] - 7s 2s/step - loss: 0.0554 - val_loss: 7.2659\n",
            "Epoch 18/30\n",
            "3/3 [==============================] - 7s 2s/step - loss: 0.1470 - val_loss: 7.2968\n",
            "Epoch 19/30\n",
            "3/3 [==============================] - 7s 2s/step - loss: 0.0881 - val_loss: 6.8462\n",
            "Epoch 20/30\n",
            "3/3 [==============================] - 7s 2s/step - loss: 0.0239 - val_loss: 6.3921\n",
            "Epoch 21/30\n",
            "3/3 [==============================] - 7s 2s/step - loss: 0.0907 - val_loss: 6.0551\n",
            "Epoch 22/30\n",
            "3/3 [==============================] - 7s 2s/step - loss: 3.1097e-06 - val_loss: 5.7169\n",
            "Epoch 23/30\n",
            "3/3 [==============================] - 8s 3s/step - loss: 1.5250e-07 - val_loss: 5.4879\n",
            "Epoch 24/30\n",
            "3/3 [==============================] - 7s 2s/step - loss: 4.1126e-05 - val_loss: 5.3224\n",
            "Epoch 25/30\n",
            "3/3 [==============================] - 7s 2s/step - loss: 3.8133e-06 - val_loss: 5.2022\n",
            "Epoch 26/30\n",
            "3/3 [==============================] - 8s 2s/step - loss: 0.0027 - val_loss: 5.1094\n",
            "Epoch 27/30\n",
            "3/3 [==============================] - 7s 2s/step - loss: 0.0060 - val_loss: 5.0484\n",
            "Epoch 28/30\n",
            "3/3 [==============================] - 7s 2s/step - loss: 1.2196e-04 - val_loss: 4.9995\n",
            "Epoch 29/30\n",
            "3/3 [==============================] - 7s 2s/step - loss: 0.0056 - val_loss: 4.9053\n",
            "Epoch 30/30\n",
            "3/3 [==============================] - 7s 2s/step - loss: 3.3093e-06 - val_loss: 4.8334\n"
          ]
        }
      ]
    },
    {
      "cell_type": "markdown",
      "metadata": {
        "id": "6vCfYCOG-SFK"
      },
      "source": [
        "# 05) Results"
      ]
    },
    {
      "cell_type": "markdown",
      "metadata": {
        "id": "rALdOZHG-rCx"
      },
      "source": [
        "A simple graph to show how our loss behaved during training process."
      ]
    },
    {
      "cell_type": "code",
      "metadata": {
        "colab": {
          "base_uri": "https://localhost:8080/",
          "height": 295
        },
        "id": "7C4E6DLSAIK1",
        "outputId": "0ea97313-7b9f-4f06-d3fe-7cf23c95c400"
      },
      "source": [
        "plt.plot(history.history['loss'])\n",
        "plt.plot(history.history['val_loss'])\n",
        "plt.title('Model Loss')\n",
        "plt.ylabel('Loss')\n",
        "plt.xlabel('Epoch')\n",
        "plt.legend(['Test', 'Validation'], loc='upper right')\n",
        "plt.show()"
      ],
      "execution_count": null,
      "outputs": [
        {
          "output_type": "display_data",
          "data": {
            "image/png": "[encoded data removed]",
            "text/plain": [
              "<Figure size 432x288 with 1 Axes>"
            ]
          },
          "metadata": {}
        }
      ]
    },
    {
      "cell_type": "markdown",
      "metadata": {
        "id": "qX0L203v_GJ5"
      },
      "source": [
        "Now, we can try to classify some images using our model."
      ]
    },
    {
      "cell_type": "code",
      "metadata": {
        "id": "slvgQg-eBkBx"
      },
      "source": [
        "def names(number):\n",
        "    if number==0:\n",
        "        return 'this is a Tumor'\n",
        "    else:\n",
        "        return 'this is not a tumor'"
      ],
      "execution_count": null,
      "outputs": []
    },
    {
      "cell_type": "code",
      "metadata": {
        "colab": {
          "base_uri": "https://localhost:8080/",
          "height": 286
        },
        "id": "gLW9_8__BkQv",
        "outputId": "6d52300e-31b6-4b02-f538-23e8dabbcf80"
      },
      "source": [
        "from matplotlib.pyplot import imshow\n",
        "img = Image.open(r\"/content/braindata/no/17 no.jpg\") # In this line, use the path of an image that you want to classify\n",
        "x = np.array(img.resize((128,128)))\n",
        "x = x.reshape(1,128,128,3)\n",
        "res = model.predict_on_batch(x)\n",
        "classification = np.where(res == np.amax(res))[1][0]\n",
        "imshow(img)\n",
        "print(str(res[0][classification]*100) + ' % Confidence  ' + names(classification))"
      ],
      "execution_count": null,
      "outputs": [
        {
          "output_type": "stream",
          "name": "stdout",
          "text": [
            "100.0% Confidence  this is not a tumor\n"
          ]
        },
        {
          "output_type": "display_data",
          "data": {
            "image/png": "[encoded data removed]",
            "text/plain": [
              "<Figure size 432x288 with 1 Axes>"
            ]
          },
          "metadata": {}
        }
      ]
    },
    {
      "cell_type": "markdown",
      "metadata": {
        "id": "Ps-zt58p_m0w"
      },
      "source": [
        "We probably could have achieved better results if we had used a larger data set. Also, we can try using different models architectures and try training with different parameters."
      ]
    }
  ]
}